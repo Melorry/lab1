{
 "cells": [
  {
   "cell_type": "markdown",
   "metadata": {
    "id": "M-DGa20PaHnu"
   },
   "source": [
    "#Задача 1\n",
    "Написать функцию на вход которой подается строка, состоящая из латинских букв.\n",
    "Функция должна вернуть количество гласных букв (a, e, i, o, u) в этой строке. Написать тесты для кода"
   ]
  },
  {
   "cell_type": "code",
   "execution_count": null,
   "metadata": {
    "id": "XvX8X_JJ6PCb"
   },
   "outputs": [],
   "source": [
    "import unittest\n",
    "\n",
    "def count_vowels(string):\n",
    "    vowels = 'aeiou'\n",
    "    count = 0\n",
    "    for char in string.lower():\n",
    "        if char in vowels:\n",
    "            count += 1\n",
    "    return count\n",
    "\n",
    "\n",
    "class TestVowelCounter(unittest.TestCase):\n",
    "    def test_empty_string(self):\n",
    "        self.assertEqual(count_vowels(''), 0)\n",
    "\n",
    "    def test_all_vowels(self):\n",
    "        self.assertEqual(count_vowels('aeiou'), 5)\n",
    "\n",
    "    def test_mixed_case(self):\n",
    "        self.assertEqual(count_vowels('Hello World'), 3)\n",
    "\n",
    "    def test_no_vowels(self):\n",
    "        self.assertEqual(count_vowels('bcdfghjklmnpqrstvwxyz'), 0)\n",
    "\n",
    "    def test_punctuation(self):\n",
    "        self.assertEqual(count_vowels('Hello, World!'), 3)\n",
    "\n",
    "if __name__ == '__main__':\n",
    "    unittest.main()\n"
   ]
  },
  {
   "cell_type": "markdown",
   "metadata": {
    "id": "t2ClV_Y0bbr6"
   },
   "source": [
    "# Задача 2\n",
    "Написать функцию на вход, которой подается строка. Функция должна вернуть true, если\n",
    "каждый символ в строке встречается только 1 раз, иначе должна вернуть false. Написать тесты для кода"
   ]
  },
  {
   "cell_type": "code",
   "execution_count": null,
   "metadata": {
    "id": "FppbECao6VIz"
   },
   "outputs": [],
   "source": [
    "import unittest\n",
    "\n",
    "def unique_chars(string):\n",
    "    return len(string) == len(set(string))\n",
    "\n",
    "class TestUniqueChars(unittest.TestCase):\n",
    "    def test_empty_string(self):\n",
    "        self.assertTrue(unique_chars(''))\n",
    "\n",
    "    def test_all_unique(self):\n",
    "        self.assertTrue(unique_chars('abcdefgh'))\n",
    "\n",
    "    def test_duplicates(self):\n",
    "        self.assertFalse(unique_chars('hello'))\n",
    "\n",
    "    def test_mixed_case(self):\n",
    "        self.assertTrue(unique_chars('AbCdEfGh'))\n",
    "\n",
    "    def test_special_chars(self):\n",
    "        self.assertTrue(unique_chars('!@#$%^&*'))\n",
    "\n",
    "if __name__ == '__main__':\n",
    "    unittest.main()\n"
   ]
  },
  {
   "cell_type": "markdown",
   "metadata": {
    "id": "udRiIK1cdt6E"
   },
   "source": [
    "# Задача 3\n",
    "Написать функцию, которая принимает положительное число и возвращает количество\n",
    "бит равных 1 в этом числе. Написать тесты для кода"
   ]
  },
  {
   "cell_type": "code",
   "execution_count": null,
   "metadata": {
    "id": "6tkfDJRz6dp_"
   },
   "outputs": [],
   "source": [
    "import unittest\n",
    "\n",
    "def count_bits(n):\n",
    "    count = 0\n",
    "    while n:\n",
    "        count += n & 1\n",
    "        n >>= 1\n",
    "    return count\n",
    "\n",
    "\n",
    "class TestSetBitCounter(unittest.TestCase):\n",
    "    def test_zero(self):\n",
    "        self.assertEqual(count_bits(0), 0)\n",
    "\n",
    "    def test_one(self):\n",
    "        self.assertEqual(count_bits(1), 1)\n",
    "\n",
    "    def test_all_bits_set(self):\n",
    "        self.assertEqual(count_bits(0b11111111), 8)\n",
    "\n",
    "    def test_random_numbers(self):\n",
    "        self.assertEqual(count_bits(0b10101010), 4)\n",
    "        self.assertEqual(count_bits(0b1000000000000000), 1)\n",
    "        self.assertEqual(count_bits(0b101010101010101), 8)\n",
    "\n",
    "if __name__ == '__main__':\n",
    "    unittest.main()\n"
   ]
  },
  {
   "cell_type": "markdown",
   "metadata": {
    "id": "26dDUz-Ae17N"
   },
   "source": [
    "# Задача 4\n",
    "Написать функцию, которая принимает положительное число. Функция должна вернуть то,\n",
    "сколько раз необходимо перемножать цифры числа или результат перемножения, чтобы\n",
    "получилось число состоящее из одной цифры.\n",
    "Например, для входного числа:\n",
    "· 39 функция должна вернуть 3, так как 3*9=27 => 2*7=14 => 1*4=4\n",
    "· 4 функция должна вернуть 0, так как число уже состоит из одной цифры\n",
    "· 999 функция должна вернуть 4, так как 9*9*9=729 => 7*2*9=126 => 1*2*6=12 =>\n",
    "1*2=2. Написать тесты для кода"
   ]
  },
  {
   "cell_type": "code",
   "execution_count": null,
   "metadata": {
    "id": "BH1A_Mgi6i4G"
   },
   "outputs": [],
   "source": [
    "import unittest\n",
    "\n",
    "def magic(n):\n",
    "    if n < 10:\n",
    "        return 0\n",
    "    count = 0\n",
    "    while n >= 10:  # пока число состоит из более чем одной цифры\n",
    "        product = 1\n",
    "        while n > 0:\n",
    "            product *= n % 10  # перемножаем цифры\n",
    "            n //= 10\n",
    "        n = product  # обновляем n на произведение\n",
    "        count += 1\n",
    "    return count\n",
    "    pass\n",
    "\n",
    "class Test_magic(unittest.TestCase):\n",
    "    def test_one(self):\n",
    "        self.assertEqual(magic(39), 3)\n",
    "\n",
    "    def test_two(self):\n",
    "        self.assertEqual(magic(999), 4)\n",
    "\n",
    "if __name__ == '__main__':\n",
    "    unittest.main()\n"
   ]
  },
  {
   "cell_type": "markdown",
   "metadata": {
    "id": "0nS-kIa8g8vd"
   },
   "source": [
    "# Задача 5\n",
    "Написать функцию, которая принимает два целочисленных вектора одинаковой длины и\n",
    "возвращает среднеквадратическое отклонение двух векторов. Написать тесты для кода"
   ]
  },
  {
   "cell_type": "code",
   "execution_count": null,
   "metadata": {
    "id": "8iphx4LM6xbx"
   },
   "outputs": [],
   "source": [
    "import unittest\n",
    "import numpy as np\n",
    "\n",
    "def mse(pred, true):\n",
    "    if len(pred) != len(true):\n",
    "        raise ValueError(\"Векторы должны быть одинаковой длины\")\n",
    "    \n",
    "    # Преобразуем списки в массивы NumPy\n",
    "    pred = np.array(pred)\n",
    "    true = np.array(true)\n",
    "    \n",
    "    # Вычисляем среднеквадратическое отклонение\n",
    "    rmse = np.sqrt(np.mean((pred - true) ** 2))\n",
    "    return rmse\n",
    "    pass\n",
    "\n",
    "class Test_mse(unittest.TestCase):\n",
    "    \n",
    "    def test_equal_vectors(self):\n",
    "        self.assertAlmostEqual(mse([1, 2, 3], [1, 2, 3]), 0)\n",
    "\n",
    "    #ут должна быть ошибка, вектора разные\n",
    "    def test_different_vectors(self):\n",
    "        self.assertAlmostEqual(mse([1, 2, 3], [4, 5, 6]), 4.69041575982343)\n",
    "\n",
    "    def test_zero_vectors(self):\n",
    "        self.assertAlmostEqual(mse([0, 0, 0], [0, 0, 0]), 0)\n",
    "\n",
    "    def test_negative_vectors(self):\n",
    "        self.assertAlmostEqual(mse([-1, -2, -3], [-1, -2, -3]), 0)\n",
    "\n",
    "    def test_mixed_vectors(self):\n",
    "        self.assertAlmostEqual(mse([1, 2], [2, 3]), 1.0)\n",
    "\n",
    "    def test_different_length_vectors(self):\n",
    "        with self.assertRaises(ValueError):\n",
    "            mse([1, 2], [1, 2, 3])\n",
    "\n",
    "if __name__ == '__main__':\n",
    "    unittest.main()"
   ]
  },
  {
   "cell_type": "markdown",
   "metadata": {
    "id": "vpIPKL439zkw"
   },
   "source": [
    "# Задача 6\n",
    "Написать функцию, принимающая целое положительное число. Функция должна вернуть\n",
    "строку вида “(n1**p1)(n2**p2)…(nk**pk)” представляющая разложение числа на простые\n",
    "множители (если pi == 1, то выводить только ni).\n",
    "Например, для числа 86240 функция должна вернуть “(2**5)(5)(7**2)(11)”. Написать тесты для кода"
   ]
  },
  {
   "cell_type": "code",
   "execution_count": null,
   "metadata": {
    "id": "pFebmcZk94Jw"
   },
   "outputs": [],
   "source": [
    "import unittest\n",
    "\n",
    "def factorization(n):\n",
    "    if n <= 1:\n",
    "        raise ValueError(\"Число должно быть положительным и больше 1.\")\n",
    "    factors = {}\n",
    "    for i in range(2, int(n**0.5) + 1):\n",
    "        while n % i == 0:\n",
    "            if i in factors:\n",
    "                factors[i] += 1\n",
    "            else:\n",
    "                factors[i] = 1\n",
    "            n //= i\n",
    "            \n",
    "    if n > 1:\n",
    "        factors[n] = 1\n",
    "    \n",
    "    result = []\n",
    "    for prime, count in factors.items():\n",
    "        if count > 1:\n",
    "            result.append(f\"({prime}**{count})\")\n",
    "        else:\n",
    "            result.append(f\"({prime})\")\n",
    "    \n",
    "    return ''.join(result)\n",
    "\n",
    "\n",
    "class TestPrimeFactorization(unittest.TestCase):\n",
    "    \n",
    "    def test_simple_case(self):\n",
    "        self.assertEqual(factorization(60), \"(2**2)(3)(5)\")\n",
    "    \n",
    "    def test_prime_number(self):\n",
    "        self.assertEqual(factorization(101), \"(101)\")\n",
    "    \n",
    "    def test_composite_number(self):\n",
    "        self.assertEqual(factorization(84), \"(2**2)(3)(7)\")\n",
    "    \n",
    "    def test_large_prime(self):\n",
    "        self.assertEqual(factorization(9973), \"(9973)\")\n",
    "    \n",
    "    def test_smallest_number(self):\n",
    "        with self.assertRaises(ValueError):\n",
    "            factorization(1)\n",
    "\n",
    "    def test_even_number(self):\n",
    "        self.assertEqual(factorization(48), \"(2**4)(3)\")\n",
    "\n",
    "if __name__ == \"__main__\":\n",
    "    unittest.main()\n"
   ]
  },
  {
   "cell_type": "markdown",
   "metadata": {
    "id": "ps2s0BudX7A2"
   },
   "source": [
    "# Задача 7\n",
    "Написать функцию, принимающая целое число n, задающее количество кубиков. Функция\n",
    "должна определить, можно ли из данного кол-ва кубиков построить пирамиду, то есть\n",
    "можно ли представить число n как 1^2+2^2+3^2+…+k^2. Если можно, то функция должна\n",
    "вернуть k, иначе строку “It is impossible”. Написать тесты для кода"
   ]
  },
  {
   "cell_type": "code",
   "execution_count": null,
   "metadata": {
    "id": "3YPjEXxhX_YT"
   },
   "outputs": [],
   "source": [
    "import unittest\n",
    "\n",
    "def pyramid(n):\n",
    "\n",
    "    if n == 0:\n",
    "        return \"It is impossible\"\n",
    "    \n",
    "    k = 0\n",
    "    total_cubes = 0\n",
    "    \n",
    "    while total_cubes < n:\n",
    "        k += 1\n",
    "        total_cubes += k ** 2\n",
    "    \n",
    "    if total_cubes == n:\n",
    "        return k\n",
    "    else:\n",
    "        return \"It is impossible\"\n",
    "\n",
    "class TestPyramidBuilding(unittest.TestCase):\n",
    "    \n",
    "    def test_possible_case(self):\n",
    "        self.assertEqual(pyramid(14), 3)\n",
    "        \n",
    "    def test_another_possible_case(self):\n",
    "        self.assertEqual(pyramid(30), 4)\n",
    "        \n",
    "    def test_impossible_case(self):\n",
    "        self.assertEqual(pyramid(15), \"It is impossible\")\n",
    "        \n",
    "    def test_small_case(self):\n",
    "        self.assertEqual(pyramid(1), 1)\n",
    "\n",
    "    def test_large_case(self):\n",
    "        self.assertEqual(pyramid(285), 9) \n",
    "\n",
    "    def test_zero_case(self):\n",
    "        self.assertEqual(pyramid(0), \"It is impossible\")\n",
    "\n",
    "if __name__ == \"__main__\":\n",
    "    unittest.main()\n"
   ]
  },
  {
   "cell_type": "markdown",
   "metadata": {
    "id": "KeKgmIdAQMEJ"
   },
   "source": [
    "# Задача 8\n",
    "Функция принимает на вход положительное число и определяет является ли оно сбалансированным, т.е. сумма цифр до средних равна сумме цифр после. Средними в случае нечетного числа цифр считать одну цифру, в случае четного - две средних. Написать тесты для кода"
   ]
  },
  {
   "cell_type": "code",
   "execution_count": null,
   "metadata": {
    "id": "gMAAqtqlQrZt"
   },
   "outputs": [],
   "source": [
    "import unittest\n",
    "\n",
    "def balanced_number(n):\n",
    "    \n",
    "    digits = [int(d) for d in str(n)]\n",
    "    length = len(digits)\n",
    "\n",
    "    if length == 0:\n",
    "        return False\n",
    "\n",
    "    if length % 2 == 0:\n",
    "        mid1 = length // 2 - 1\n",
    "        mid2 = mid1 + 1\n",
    "        left_sum = sum(digits[:mid1 + 1])\n",
    "        right_sum = sum(digits[mid2:])\n",
    "    else:\n",
    "        mid = length // 2\n",
    "        left_sum = sum(digits[:mid])\n",
    "        right_sum = sum(digits[mid + 1:])\n",
    "\n",
    "    return left_sum == right_sum\n",
    "\n",
    "class TestBalancedNumber(unittest.TestCase):\n",
    "    \n",
    "    def test_even_length_balanced(self):\n",
    "        self.assertTrue(balanced_number(123321))\n",
    "        self.assertTrue(balanced_number(123123))\n",
    "\n",
    "    def test_odd_length_balanced(self):\n",
    "        self.assertTrue(balanced_number(12321))\n",
    "        self.assertFalse(balanced_number(12331))\n",
    "\n",
    "    def test_single_digit(self):\n",
    "        self.assertTrue(balanced_number(7))\n",
    "\n",
    "    def test_two_digits(self):\n",
    "        self.assertTrue(balanced_number(11))\n",
    "        self.assertFalse(balanced_number(12))\n",
    "\n",
    "    def test_large_number(self):\n",
    "        self.assertTrue(balanced_number(1234567890987654321))\n",
    "\n",
    "    def test_large_number_not_balanced(self):\n",
    "        self.assertFalse(balanced_number(123456789876543210))\n",
    "\n",
    "if __name__ == \"__main__\":\n",
    "    unittest.main()\n"
   ]
  }
 ],
 "metadata": {
  "colab": {
   "provenance": []
  },
  "kernelspec": {
   "display_name": "Python 3 (ipykernel)",
   "language": "python",
   "name": "python3"
  },
  "language_info": {
   "codemirror_mode": {
    "name": "ipython",
    "version": 3
   },
   "file_extension": ".py",
   "mimetype": "text/x-python",
   "name": "python",
   "nbconvert_exporter": "python",
   "pygments_lexer": "ipython3",
   "version": "3.11.9"
  }
 },
 "nbformat": 4,
 "nbformat_minor": 4
}
