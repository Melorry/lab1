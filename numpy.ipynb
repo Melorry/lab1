{
 "cells": [
  {
   "cell_type": "markdown",
   "metadata": {
    "id": "vC84e9kzyxPy"
   },
   "source": [
    "<h1>Импорт библиотек"
   ]
  },
  {
   "cell_type": "code",
   "execution_count": 3,
   "metadata": {
    "id": "cgKeNegmQG5S"
   },
   "outputs": [],
   "source": [
    "import numpy as np\n",
    "import matplotlib.pyplot as plt"
   ]
  },
  {
   "cell_type": "markdown",
   "metadata": {
    "id": "qFM9uVU2x4Ls"
   },
   "source": [
    "<h1>Задача 1. Дан набор из $p$ матриц размерностью $(n, n)$ и $p$ векторов размерностью $(n, 1)$, найти сумму произведений матриц на векторы. Написать тесты для кода"
   ]
  },
  {
   "cell_type": "code",
   "execution_count": null,
   "metadata": {
    "id": "IAbUvEiYyWFF"
   },
   "outputs": [],
   "source": [
    "import numpy as np\n",
    "import unittest\n",
    "\n",
    "def sum_prod(X, V):\n",
    "    result = np.zeros((X[0].shape[0], 1))\n",
    "\n",
    "    for matrix, vector in zip(X, V):\n",
    "        result += np.dot(matrix, vector)\n",
    "\n",
    "    return result\n",
    "\n",
    "class TestSumProdFunction(unittest.TestCase):\n",
    "\n",
    "    def test_sum_prod_basic(self):\n",
    "        X = [np.array([[1, 2], [3, 4]]), np.array([[0, 1], [2, 3]])]\n",
    "        V = [np.array([[1], [0]]), np.array([[4], [5]])]  \n",
    "        \n",
    "        result = sum_prod(X, V)\n",
    "        expected = np.array([[6], [26]])\n",
    "        np.testing.assert_array_equal(result, expected)\n",
    "\n",
    "    def test_sum_prod_single_matrix_vector(self):\n",
    "        X = [np.array([[2, 3], [4, 5]])]\n",
    "        V = [np.array([[1], [2]])]\n",
    "        \n",
    "        result = sum_prod(X, V)\n",
    "        expected = np.array([[2 * 1 + 3 * 2], [4 * 1 + 5 * 2]]).reshape(2, 1)\n",
    "        np.testing.assert_array_equal(result, expected)\n",
    "\n",
    "    def test_sum_prod_multiple_matrices_vectors(self):\n",
    "        X = [np.array([[1, 0], [0, 1]]), np.array([[2, 1], [1, 2]])]\n",
    "        V = [np.array([[3], [4]]), np.array([[1], [0]])]\n",
    "        \n",
    "        result = sum_prod(X, V)\n",
    "        expected = np.array([[1 * 3 + 0 * 4 + 2 * 1 + 1 * 0], \n",
    "                              [0 * 3 + 1 * 4 + 1 * 1 + 2 * 0]]).reshape(2, 1)\n",
    "        np.testing.assert_array_equal(result, expected)\n",
    "\n",
    "if __name__ == \"__main__\":\n",
    "    unittest.main()\n"
   ]
  },
  {
   "cell_type": "markdown",
   "metadata": {
    "id": "TKwPG4fIy2w4"
   },
   "source": [
    "<h1>Задача 2. Дана матрица M, напишите функцию, которая бинаризует матрицу по некоторому threshold (то есть, все значения большие threshold становятся равными 1, иначе 0). Напишите тесты для кода"
   ]
  },
  {
   "cell_type": "code",
   "execution_count": null,
   "metadata": {
    "id": "KQDNMgsjRNH7"
   },
   "outputs": [],
   "source": [
    "import numpy as np\n",
    "import unittest\n",
    "\n",
    "def binarize(M, threshold=0.5):\n",
    "    return np.where(M > threshold, 1, 0)\n",
    "    pass\n",
    "\n",
    "class TestBinarize(unittest.TestCase):\n",
    "\n",
    "    def test_basic_case(self):\n",
    "        M = np.array([[0.1, 0.6, 0.3], [0.8, 0.4, 0.9]])\n",
    "        threshold = 0.5\n",
    "        expected = np.array([[0, 1, 0], [1, 0, 1]])\n",
    "        np.testing.assert_array_equal(binarize(M, threshold), expected)\n",
    "\n",
    "    def test_all_below_threshold(self):\n",
    "        M = np.array([[0.1, 0.2], [0.3, 0.4]])\n",
    "        threshold = 0.5\n",
    "        expected = np.array([[0, 0], [0, 0]])\n",
    "        np.testing.assert_array_equal(binarize(M, threshold), expected)\n",
    "\n",
    "    def test_all_above_threshold(self):\n",
    "        M = np.array([[0.6, 0.7], [0.8, 0.9]])\n",
    "        threshold = 0.5\n",
    "        expected = np.array([[1, 1], [1, 1]])\n",
    "        np.testing.assert_array_equal(binarize(M, threshold), expected)\n",
    "\n",
    "    def test_edge_case_equal_to_threshold(self):\n",
    "        M = np.array([[0.5, 0.5], [0.5, 0.5]])\n",
    "        threshold = 0.5\n",
    "        expected = np.array([[0, 0], [0, 0]])\n",
    "        np.testing.assert_array_equal(binarize(M, threshold), expected)\n",
    "        \n",
    "    def test_empty_matrix(self):\n",
    "        M = np.array([[]])\n",
    "        threshold = 0.5\n",
    "        expected = np.array([[]])\n",
    "        np.testing.assert_array_equal(binarize(M, threshold), expected)\n",
    "\n",
    "    def test_negative_values(self):\n",
    "        M = np.array([[-1, 0, 1], [0.5, 0.4, 0.2]])\n",
    "        threshold = 0\n",
    "        expected = np.array([[0, 1, 1], [1, 0, 0]])  # Все положительные (и нуль) преобразуются в 1\n",
    "        np.testing.assert_array_equal(binarize(M, threshold), expected)\n",
    "\n",
    "if __name__ == \"__main__\":\n",
    "    unittest.main()"
   ]
  },
  {
   "cell_type": "markdown",
   "metadata": {
    "id": "IY5L-h-7zWhN"
   },
   "source": [
    "<h1>Задача 3. Напишите функцию, которая возвращает уникальные элементы из каждой строки матрицы. Напишите такую же функцию, но для столбцов. Напишите тесты для кода"
   ]
  },
  {
   "cell_type": "code",
   "execution_count": null,
   "metadata": {
    "id": "-8dEZhR0SBC-"
   },
   "outputs": [],
   "source": [
    "import numpy as np\n",
    "import unittest\n",
    "\n",
    "def unique_rows(mat):\n",
    "    if mat.size == 0:  \n",
    "        return []\n",
    "    \n",
    "    return [np.unique(row) for row in mat]\n",
    "\n",
    "def unique_columns(mat):\n",
    "    if mat.size == 0:  \n",
    "        return []\n",
    "    \n",
    "    return [np.unique(col) for col in mat.T]\n",
    "\n",
    "class TestUniqueFunctions(unittest.TestCase):\n",
    "\n",
    "    def setUp(self):\n",
    "        self.mat = np.array([[1, 2, 2, 3],\n",
    "                             [4, 2, 4, 4],\n",
    "                             [1, 3, 2, 1]])\n",
    "\n",
    "    def test_unique_rows(self):\n",
    "        expected_unique_rows = [np.array([1, 2, 3]),\n",
    "                                 np.array([2, 4]),\n",
    "                                 np.array([1, 2, 3])]\n",
    "        result = unique_rows(self.mat)\n",
    "        for expected, r in zip(expected_unique_rows, result):\n",
    "            np.testing.assert_array_equal(r, expected)\n",
    "\n",
    "    def test_unique_columns(self):\n",
    "        expected_unique_columns = [np.array([1, 4]), \n",
    "                                   np.array([2, 3])]\n",
    "\n",
    "        result = unique_columns(self.mat)\n",
    "        for expected, r in zip(expected_unique_columns, result):\n",
    "            np.testing.assert_array_equal(r, expected)\n",
    "\n",
    "    def test_empty_matrix(self):\n",
    "        empty_mat = np.array([[]])\n",
    "        expected_empty_rows = []\n",
    "        expected_empty_columns = []\n",
    "        self.assertEqual(unique_rows(empty_mat), expected_empty_rows)\n",
    "        self.assertEqual(unique_columns(empty_mat), expected_empty_columns)\n",
    "\n",
    "    def test_single_row(self):\n",
    "        single_row = np.array([[1, 1, 2, 2]])\n",
    "        expected = [np.array([1, 2])]\n",
    "        np.testing.assert_array_equal(unique_rows(single_row), expected)\n",
    "\n",
    "    def test_single_column(self):\n",
    "        single_column = np.array([[1], [1], [2], [2]])\n",
    "        expected = [np.array([1, 2])]\n",
    "        np.testing.assert_array_equal(unique_columns(single_column), expected)\n",
    "\n",
    "if __name__ == \"__main__\":\n",
    "    unittest.main()\n"
   ]
  },
  {
   "cell_type": "markdown",
   "metadata": {
    "id": "roYAlo4Jz-lH"
   },
   "source": [
    "<h1>Задача 4. Напишите функцию, которая заполняет матрицу с размерами $(m, n)$ случайными числами, распределенными по нормальному закону. Затем считает мат. ожидание и дисперсию для каждого из столбцов и строк, а также строит для каждой строки и столбца гистограмму значений (использовать функцию hist из модуля matplotlib.plot)"
   ]
  },
  {
   "cell_type": "code",
   "execution_count": null,
   "metadata": {
    "id": "nZK_71hMSQzv"
   },
   "outputs": [],
   "source": [
    "import numpy as np\n",
    "import matplotlib.pyplot as plt\n",
    "\n",
    "def fill_matrix_and_analyze(m, n):\n",
    "    matrix = np.random.randn(m, n)\n",
    "\n",
    "    mean_rows = np.mean(matrix, axis=1)\n",
    "    var_rows = np.var(matrix, axis=1)\n",
    "    mean_cols = np.mean(matrix, axis=0)\n",
    "    var_cols = np.var(matrix, axis=0)\n",
    "\n",
    "    print(\"Matrix:\\n\", matrix)\n",
    "    print(\"\\nMean of rows:\\n\", mean_rows)\n",
    "    print(\"Variance of rows:\\n\", var_rows)\n",
    "    print(\"\\nMean of columns:\\n\", mean_cols)\n",
    "    print(\"Variance of columns:\\n\", var_cols)\n",
    "\n",
    "    for i in range(m):\n",
    "        plt.figure(figsize=(10, 4))\n",
    "        plt.hist(matrix[i], bins=10, alpha=0.7, color='blue', edgecolor='black')\n",
    "        plt.title(f'Histogram of Row {i + 1}')\n",
    "        plt.xlabel('Value')\n",
    "        plt.ylabel('Frequency')\n",
    "        plt.grid()\n",
    "        plt.show()\n",
    "        \n",
    "    for j in range(n):\n",
    "        plt.figure(figsize=(10, 4))\n",
    "        plt.hist(matrix[:, j], bins=10, alpha=0.7, color='green', edgecolor='black')\n",
    "        plt.title(f'Histogram of Column {j + 1}')\n",
    "        plt.xlabel('Value')\n",
    "        plt.ylabel('Frequency')\n",
    "        plt.grid()\n",
    "        plt.show()\n",
    "\n",
    "    return matrix, mean_rows, var_rows, mean_cols, var_cols\n",
    "\n",
    "# Пример использования функции\n",
    "m = 5\n",
    "n = 4 \n",
    "fill_matrix_and_analyze(m, n)"
   ]
  },
  {
   "cell_type": "markdown",
   "metadata": {
    "id": "BDyATNdM0dJ2"
   },
   "source": [
    "<h1>Задача 5. Напишите функцию, которая заполняет матрицу $(m, n)$ в шахматном порядке заданными числами $a$ и $b$. Напишите тесты для кода"
   ]
  },
  {
   "cell_type": "code",
   "execution_count": null,
   "metadata": {
    "id": "RWNJYWQGecS6"
   },
   "outputs": [],
   "source": [
    "import numpy as np\n",
    "import unittest\n",
    "\n",
    "def chess(m, n, a, b):\n",
    "    matrix = np.zeros((m, n), dtype=int)\n",
    "\n",
    "    for i in range(m):\n",
    "        for j in range(n):\n",
    "            if (i + j) % 2 == 0:\n",
    "                matrix[i, j] = a\n",
    "            else:\n",
    "                matrix[i, j] = b\n",
    "\n",
    "    return matrix\n",
    "\n",
    "class TestChessFunction(unittest.TestCase):\n",
    "\n",
    "    def test_chess_3x3(self):\n",
    "        result = chess(3, 3, 1, 2)\n",
    "        expected = np.array([[1, 2, 1],\n",
    "                             [2, 1, 2],\n",
    "                             [1, 2, 1]])\n",
    "        np.testing.assert_array_equal(result, expected)\n",
    "\n",
    "    def test_chess_4x4(self):\n",
    "        result = chess(4, 4, 3, 4)\n",
    "        expected = np.array([[3, 4, 3, 4],\n",
    "                             [4, 3, 4, 3],\n",
    "                             [3, 4, 3, 4],\n",
    "                             [4, 3, 4, 3]])\n",
    "        np.testing.assert_array_equal(result, expected)\n",
    "\n",
    "    def test_chess_single_row(self):\n",
    "        result = chess(1, 5, 5, 10)\n",
    "        expected = np.array([[5, 10, 5, 10, 5]])\n",
    "        np.testing.assert_array_equal(result, expected)\n",
    "\n",
    "    def test_chess_single_column(self):\n",
    "        result = chess(5, 1, 7, 8)\n",
    "        expected = np.array([[7],\n",
    "                             [8],\n",
    "                             [7],\n",
    "                             [8],\n",
    "                             [7]])\n",
    "        np.testing.assert_array_equal(result, expected)\n",
    "\n",
    "    def test_chess_empty_matrix(self):\n",
    "        result = chess(0, 0, 1, 2)\n",
    "        expected = np.array([]).reshape(0, 0)\n",
    "        np.testing.assert_array_equal(result, expected)\n",
    "\n",
    "if __name__ == \"__main__\":\n",
    "    unittest.main()\n"
   ]
  },
  {
   "cell_type": "markdown",
   "metadata": {
    "id": "-ymXLtTN0vB6"
   },
   "source": [
    "<h1>Задача 6. Напишите функцию, которая отрисовывает прямоугольник с заданными размерами (a, b) на изображении размера (m, n), цвет фона задайте в схеме RGB, как и цвет прямоугольника. Цвета также должны быть параметрами функции. Напишите аналогичную функцию но для овала с полуосями a и b. Напишите тесты для кода.\n",
    "Примечание: уравнение эллипса (границы овала) можно записать как:\n",
    "<h1>$\\frac{(x-x_0)^2}{a^2}+\\frac{(y-y_0)^2}{b^2}=1$"
   ]
  },
  {
   "cell_type": "code",
   "execution_count": 1,
   "metadata": {
    "id": "sNfl1t_kfOF4"
   },
   "outputs": [],
   "source": [
    "import numpy as np\n",
    "import matplotlib.pyplot as plt\n",
    "import unittest\n",
    "\n",
    "def draw_rectangle(a, b, m, n, rectangle_color, background_color):\n",
    "    image = np.zeros((m, n, 3), dtype=np.uint8)\n",
    "    image[:] = background_color\n",
    "\n",
    "    start_x = (n - a) // 2\n",
    "    start_y = (m - b) // 2\n",
    "    image[start_y:start_y + b, start_x:start_x + a] = rectangle_color\n",
    "\n",
    "    plt.imshow(image)\n",
    "    plt.axis('off')\n",
    "    plt.show()\n",
    "    return image\n",
    "\n",
    "def draw_ellipse(a, b, m, n, ellipse_color, background_color):\n",
    "    image = np.zeros((m, n, 3), dtype=np.uint8)\n",
    "    image[:] = background_color\n",
    "\n",
    "    x0 = n // 2\n",
    "    y0 = m // 2\n",
    "\n",
    "    for y in range(m):\n",
    "        for x in range(n):\n",
    "            if ((x - x0)**2) / (a**2) + ((y - y0)**2) / (b**2) <= 1:\n",
    "                image[y, x] = ellipse_color\n",
    "\n",
    "    plt.imshow(image)\n",
    "    plt.axis('off')\n",
    "    plt.show()\n",
    "    return image\n",
    "\n",
    "class TestDrawingFunctions(unittest.TestCase):\n",
    "\n",
    "    def test_draw_rectangle(self):\n",
    "        rectangle_color = (255, 0, 0)  # Красный цвет\n",
    "        background_color = (255, 255, 255)  # Белый цвет\n",
    "        result = draw_rectangle(100, 50, 200, 200, rectangle_color, background_color)\n",
    "\n",
    "        self.assertTrue(np.all(result[0, :, :] == background_color))\n",
    "        \n",
    "        self.assertTrue(np.all(result[75:125, 50:150, :] == rectangle_color))\n",
    "\n",
    "    def test_draw_ellipse(self):\n",
    "        ellipse_color = (0, 255, 0)  # Зеленый цвет\n",
    "        background_color = (255, 255, 255)  # Белый цвет\n",
    "        result = draw_ellipse(50, 75, 200, 200, ellipse_color, background_color)\n",
    "\n",
    "        self.assertTrue(np.all(result[0, :, :] == background_color))\n",
    "        \n",
    "        count_ellipse_pixels = np.sum(np.all(result == ellipse_color, axis=-1))\n",
    "        self.assertGreater(count_ellipse_pixels, 0)  # Надеемся, что есть хотя бы один пиксель овала\n",
    "\n",
    "if __name__ == \"__main__\":\n",
    "    unittest.main()\n"
   ]
  },
  {
   "cell_type": "markdown",
   "metadata": {
    "id": "S82c38oz244H"
   },
   "source": [
    "<h1>Задача 7. Дан некий временной ряд. Для данного ряда нужно найти его: математическое ожидание, дисперсию, СКО, найти все локальные максимумы и минимумы (локальный максимум - это точка, которая больше своих соседних точек, а локальный минимум - это точка, которая меньше своих соседей), а также вычислить для данного ряда другой ряд, получаемый методом скользящего среднего с размером окна $p$.\n",
    "<h1>Примечание: метод скользящего среднего подразумевает нахождение среднего из подмножетсва ряда размером $p$"
   ]
  },
  {
   "cell_type": "code",
   "execution_count": null,
   "metadata": {
    "id": "Zb9mIVge5MMt"
   },
   "outputs": [],
   "source": [
    "import numpy as np\n",
    "\n",
    "def find_local_extrema(data):\n",
    "    local_maxima = []\n",
    "    local_minima = []\n",
    "\n",
    "    for i in range(1, len(data) - 1):\n",
    "        if data[i] > data[i - 1] and data[i] > data[i + 1]:\n",
    "            local_maxima.append(data[i])\n",
    "        elif data[i] < data[i - 1] and data[i] < data[i + 1]:\n",
    "            local_minima.append(data[i])\n",
    "    \n",
    "    return local_maxima, local_minima\n",
    "\n",
    "def analyze_time_series(data, p):\n",
    "    data = np.array(data)\n",
    "    mean = np.mean(data)\n",
    "    variance = np.var(data)\n",
    "    std_dev = np.std(data)\n",
    "    local_maxima, local_minima = find_local_extrema(data)\n",
    "    moving_average = np.convolve(data, np.ones(p)/p, mode='valid')\n",
    "\n",
    "    results = {\n",
    "        'mean': mean,\n",
    "        'variance': variance,\n",
    "        'std_dev': std_dev,\n",
    "        'local_maxima': local_maxima,\n",
    "        'local_minima': local_minima,\n",
    "        'moving_average': moving_average\n",
    "    }\n",
    "    \n",
    "    return results\n",
    "\n",
    "# Пример использования\n",
    "time_series = [1, 3, 2, 5, 6, 2, 8, 6, 3, 4, 2, 5, 7]  # Пример временного ряда\n",
    "p = 3  # Размер окна для скользящего среднего\n",
    "\n",
    "analysis_results = analyze_time_series(time_series, p)\n",
    "\n",
    "print(\"Математическое ожидание:\", analysis_results['mean'])\n",
    "print(\"Дисперсия:\", analysis_results['variance'])\n",
    "print(\"Стандартное отклонение:\", analysis_results['std_dev'])\n",
    "print(\"Локальные максимумы:\", analysis_results['local_maxima'])\n",
    "print(\"Локальные минимумы:\", analysis_results['local_minima'])\n",
    "print(\"Скользящее среднее:\", analysis_results['moving_average'])\n"
   ]
  },
  {
   "cell_type": "markdown",
   "metadata": {
    "id": "jPkylmOX5O9n"
   },
   "source": [
    "<h1> Задача 8. Дан некоторый вектор с целочисленными метками классов, напишите функцию, которая выполняет one-hot-encoding для данного вектора\n",
    "<h1> One-hot-encoding - представление, в котором на месте метки некоторого класса стоит 1, в остальных позициях стоит 0. Например для вектора [0, 2, 3, 0] one-hot-encoding выглядит как: [[1, 0, 0, 0], [0, 0, 1, 0], [0, 0, 0, 1], [1, 0, 0, 0]]"
   ]
  },
  {
   "cell_type": "code",
   "execution_count": null,
   "metadata": {
    "id": "Y-jlnZvw56lD"
   },
   "outputs": [],
   "source": [
    "import numpy as np\n",
    "\n",
    "def one_hot_encoding(labels):\n",
    "    labels = np.array(labels)\n",
    "    n_classes = np.max(labels) + 1  # Количество классов (меток) на основе максимального значения\n",
    "    one_hot_matrix = np.zeros((labels.size, n_classes), dtype=int)  # Инициализация матрицы нулями\n",
    "\n",
    "    for idx, label in enumerate(labels):\n",
    "        one_hot_matrix[idx, label] = 1  # Устанавливаем 1 в соответствующей позиции\n",
    "\n",
    "    return one_hot_matrix\n",
    "\n",
    "# Пример использования\n",
    "labels = [0, 2, 3, 0]\n",
    "encoded = one_hot_encoding(labels)\n",
    "\n",
    "print(\"One-hot encoding:\")\n",
    "print(encoded)\n"
   ]
  }
 ],
 "metadata": {
  "colab": {
   "provenance": []
  },
  "kernelspec": {
   "display_name": "Python 3 (ipykernel)",
   "language": "python",
   "name": "python3"
  },
  "language_info": {
   "codemirror_mode": {
    "name": "ipython",
    "version": 3
   },
   "file_extension": ".py",
   "mimetype": "text/x-python",
   "name": "python",
   "nbconvert_exporter": "python",
   "pygments_lexer": "ipython3",
   "version": "3.11.9"
  }
 },
 "nbformat": 4,
 "nbformat_minor": 4
}
